{
 "cells": [
  {
   "cell_type": "code",
   "execution_count": 10,
   "metadata": {},
   "outputs": [
    {
     "data": {
      "text/plain": [
       "<bound method DataFrame.info of    a   b   c   d message\n",
       "0  1   2   3   4   hello\n",
       "1  5   6   7   8   world\n",
       "2  9  10  11  12     foo>"
      ]
     },
     "execution_count": 10,
     "metadata": {},
     "output_type": "execute_result"
    }
   ],
   "source": [
    "import pandas as pd\n",
    "df1=pd.read_csv('C:/Users/ejasm/Downloads/code_pandas1/examples/ex1.csv')\n",
    "df1.info"
   ]
  },
  {
   "cell_type": "code",
   "execution_count": 11,
   "metadata": {
    "scrolled": true
   },
   "outputs": [
    {
     "data": {
      "text/plain": [
       "<bound method NDFrame.describe of    a   b   c   d message\n",
       "0  1   2   3   4   hello\n",
       "1  5   6   7   8   world\n",
       "2  9  10  11  12     foo>"
      ]
     },
     "execution_count": 11,
     "metadata": {},
     "output_type": "execute_result"
    }
   ],
   "source": [
    "df1.describe"
   ]
  },
  {
   "cell_type": "code",
   "execution_count": 12,
   "metadata": {},
   "outputs": [
    {
     "data": {
      "text/plain": [
       "(3, 5)"
      ]
     },
     "execution_count": 12,
     "metadata": {},
     "output_type": "execute_result"
    }
   ],
   "source": [
    "df1.shape"
   ]
  },
  {
   "cell_type": "code",
   "execution_count": 16,
   "metadata": {
    "scrolled": true
   },
   "outputs": [
    {
     "data": {
      "text/html": [
       "<div>\n",
       "<style scoped>\n",
       "    .dataframe tbody tr th:only-of-type {\n",
       "        vertical-align: middle;\n",
       "    }\n",
       "\n",
       "    .dataframe tbody tr th {\n",
       "        vertical-align: top;\n",
       "    }\n",
       "\n",
       "    .dataframe thead th {\n",
       "        text-align: right;\n",
       "    }\n",
       "</style>\n",
       "<table border=\"1\" class=\"dataframe\">\n",
       "  <thead>\n",
       "    <tr style=\"text-align: right;\">\n",
       "      <th></th>\n",
       "      <th>something</th>\n",
       "      <th>a</th>\n",
       "      <th>b</th>\n",
       "      <th>c</th>\n",
       "      <th>d</th>\n",
       "      <th>message</th>\n",
       "    </tr>\n",
       "  </thead>\n",
       "  <tbody>\n",
       "    <tr>\n",
       "      <th>0</th>\n",
       "      <td>one</td>\n",
       "      <td>1</td>\n",
       "      <td>2</td>\n",
       "      <td>3.0</td>\n",
       "      <td>4</td>\n",
       "      <td>NaN</td>\n",
       "    </tr>\n",
       "    <tr>\n",
       "      <th>1</th>\n",
       "      <td>two</td>\n",
       "      <td>5</td>\n",
       "      <td>6</td>\n",
       "      <td>NaN</td>\n",
       "      <td>8</td>\n",
       "      <td>world</td>\n",
       "    </tr>\n",
       "    <tr>\n",
       "      <th>2</th>\n",
       "      <td>three</td>\n",
       "      <td>9</td>\n",
       "      <td>10</td>\n",
       "      <td>11.0</td>\n",
       "      <td>12</td>\n",
       "      <td>foo</td>\n",
       "    </tr>\n",
       "  </tbody>\n",
       "</table>\n",
       "</div>"
      ],
      "text/plain": [
       "  something  a   b     c   d message\n",
       "0       one  1   2   3.0   4     NaN\n",
       "1       two  5   6   NaN   8   world\n",
       "2     three  9  10  11.0  12     foo"
      ]
     },
     "execution_count": 16,
     "metadata": {},
     "output_type": "execute_result"
    }
   ],
   "source": [
    "df2=pd.read_csv('C:/Users/ejasm/Downloads/code_pandas1/examples/ex5.csv')\n",
    "df2"
   ]
  },
  {
   "cell_type": "code",
   "execution_count": 3,
   "metadata": {},
   "outputs": [
    {
     "data": {
      "text/plain": [
       "<pandas.io.parsers.TextFileReader at 0x1d35c4a6880>"
      ]
     },
     "execution_count": 3,
     "metadata": {},
     "output_type": "execute_result"
    }
   ],
   "source": [
    "import pandas as pd\n",
    "df=pd.read_csv('C:/Users/ejasm/Downloads/code_pandas1/examples/ex6.csv',chunksize=1000)\n",
    "df"
   ]
  },
  {
   "cell_type": "code",
   "execution_count": 4,
   "metadata": {},
   "outputs": [
    {
     "name": "stdout",
     "output_type": "stream",
     "text": [
      "          one       two     three      four key\n",
      "0    0.467976 -0.038649 -0.295344 -1.824726   L\n",
      "1   -0.358893  1.404453  0.704965 -0.200638   B\n",
      "2   -0.501840  0.659254 -0.421691 -0.057688   G\n",
      "3    0.204886  1.074134  1.388361 -0.982404   R\n",
      "4    0.354628 -0.133116  0.283763 -0.837063   Q\n",
      "..        ...       ...       ...       ...  ..\n",
      "995  2.311896 -0.417070 -1.409599 -0.515821   M\n",
      "996 -0.479893 -0.650419  0.745152 -0.646038   H\n",
      "997  0.523331  0.787112  0.486066  1.093156   D\n",
      "998 -0.362559  0.598894 -1.843201  0.887292   W\n",
      "999 -0.096376 -1.012999 -0.657431 -0.573315   K\n",
      "\n",
      "[1000 rows x 5 columns]\n",
      "           one       two     three      four key\n",
      "1000  0.467976 -0.038649 -0.295344 -1.824726   T\n",
      "1001 -0.358893  1.404453  0.704965 -0.200638   J\n",
      "1002 -0.501840  0.659254 -0.421691 -0.057688   R\n",
      "1003  0.204886  1.074134  1.388361 -0.982404   S\n",
      "1004  0.354628 -0.133116  0.283763 -0.837063   B\n",
      "...        ...       ...       ...       ...  ..\n",
      "1995  2.311896 -0.417070 -1.409599 -0.515821   L\n",
      "1996 -0.479893 -0.650419  0.745152 -0.646038   J\n",
      "1997  0.523331  0.787112  0.486066  1.093156   V\n",
      "1998 -0.362559  0.598894 -1.843201  0.887292   W\n",
      "1999 -0.096376 -1.012999 -0.657431 -0.573315   D\n",
      "\n",
      "[1000 rows x 5 columns]\n",
      "           one       two     three      four key\n",
      "2000  0.467976 -0.038649 -0.295344 -1.824726   1\n",
      "2001 -0.358893  1.404453  0.704965 -0.200638   H\n",
      "2002 -0.501840  0.659254 -0.421691 -0.057688   F\n",
      "2003  0.204886  1.074134  1.388361 -0.982404   L\n",
      "2004  0.354628 -0.133116  0.283763 -0.837063   E\n",
      "...        ...       ...       ...       ...  ..\n",
      "2995  2.311896 -0.417070 -1.409599 -0.515821   H\n",
      "2996 -0.479893 -0.650419  0.745152 -0.646038   U\n",
      "2997  0.523331  0.787112  0.486066  1.093156   A\n",
      "2998 -0.362559  0.598894 -1.843201  0.887292   Y\n",
      "2999 -0.096376 -1.012999 -0.657431 -0.573315   F\n",
      "\n",
      "[1000 rows x 5 columns]\n",
      "           one       two     three      four key\n",
      "3000  0.467976 -0.038649 -0.295344 -1.824726   H\n",
      "3001 -0.358893  1.404453  0.704965 -0.200638   Y\n",
      "3002 -0.501840  0.659254 -0.421691 -0.057688   0\n",
      "3003  0.204886  1.074134  1.388361 -0.982404   Z\n",
      "3004  0.354628 -0.133116  0.283763 -0.837063   U\n",
      "...        ...       ...       ...       ...  ..\n",
      "3995  2.311896 -0.417070 -1.409599 -0.515821   W\n",
      "3996 -0.479893 -0.650419  0.745152 -0.646038   E\n",
      "3997  0.523331  0.787112  0.486066  1.093156   Q\n",
      "3998 -0.362559  0.598894 -1.843201  0.887292   A\n",
      "3999 -0.096376 -1.012999 -0.657431 -0.573315   M\n",
      "\n",
      "[1000 rows x 5 columns]\n",
      "           one       two     three      four key\n",
      "4000  0.467976 -0.038649 -0.295344 -1.824726   H\n",
      "4001 -0.358893  1.404453  0.704965 -0.200638   Z\n",
      "4002 -0.501840  0.659254 -0.421691 -0.057688   2\n",
      "4003  0.204886  1.074134  1.388361 -0.982404   B\n",
      "4004  0.354628 -0.133116  0.283763 -0.837063   1\n",
      "...        ...       ...       ...       ...  ..\n",
      "4995  2.311896 -0.417070 -1.409599 -0.515821   X\n",
      "4996 -0.479893 -0.650419  0.745152 -0.646038   M\n",
      "4997  0.523331  0.787112  0.486066  1.093156   5\n",
      "4998 -0.362559  0.598894 -1.843201  0.887292   T\n",
      "4999 -0.096376 -1.012999 -0.657431 -0.573315   U\n",
      "\n",
      "[1000 rows x 5 columns]\n",
      "           one       two     three      four key\n",
      "5000  0.467976 -0.038649 -0.295344 -1.824726   1\n",
      "5001 -0.358893  1.404453  0.704965 -0.200638   Z\n",
      "5002 -0.501840  0.659254 -0.421691 -0.057688   3\n",
      "5003  0.204886  1.074134  1.388361 -0.982404   H\n",
      "5004  0.354628 -0.133116  0.283763 -0.837063   B\n",
      "...        ...       ...       ...       ...  ..\n",
      "5995  2.311896 -0.417070 -1.409599 -0.515821   1\n",
      "5996 -0.479893 -0.650419  0.745152 -0.646038   Y\n",
      "5997  0.523331  0.787112  0.486066  1.093156   F\n",
      "5998 -0.362559  0.598894 -1.843201  0.887292   0\n",
      "5999 -0.096376 -1.012999 -0.657431 -0.573315   3\n",
      "\n",
      "[1000 rows x 5 columns]\n",
      "           one       two     three      four key\n",
      "6000  0.467976 -0.038649 -0.295344 -1.824726   I\n",
      "6001 -0.358893  1.404453  0.704965 -0.200638   X\n",
      "6002 -0.501840  0.659254 -0.421691 -0.057688   A\n",
      "6003  0.204886  1.074134  1.388361 -0.982404   C\n",
      "6004  0.354628 -0.133116  0.283763 -0.837063   S\n",
      "...        ...       ...       ...       ...  ..\n",
      "6995  2.311896 -0.417070 -1.409599 -0.515821   P\n",
      "6996 -0.479893 -0.650419  0.745152 -0.646038   9\n",
      "6997  0.523331  0.787112  0.486066  1.093156   L\n",
      "6998 -0.362559  0.598894 -1.843201  0.887292   5\n",
      "6999 -0.096376 -1.012999 -0.657431 -0.573315   O\n",
      "\n",
      "[1000 rows x 5 columns]\n",
      "           one       two     three      four key\n",
      "7000  0.467976 -0.038649 -0.295344 -1.824726   1\n",
      "7001 -0.358893  1.404453  0.704965 -0.200638   I\n",
      "7002 -0.501840  0.659254 -0.421691 -0.057688   H\n",
      "7003  0.204886  1.074134  1.388361 -0.982404   P\n",
      "7004  0.354628 -0.133116  0.283763 -0.837063   D\n",
      "...        ...       ...       ...       ...  ..\n",
      "7995  2.311896 -0.417070 -1.409599 -0.515821   A\n",
      "7996 -0.479893 -0.650419  0.745152 -0.646038   6\n",
      "7997  0.523331  0.787112  0.486066  1.093156   R\n",
      "7998 -0.362559  0.598894 -1.843201  0.887292   R\n",
      "7999 -0.096376 -1.012999 -0.657431 -0.573315   2\n",
      "\n",
      "[1000 rows x 5 columns]\n",
      "           one       two     three      four key\n",
      "8000  0.467976 -0.038649 -0.295344 -1.824726   7\n",
      "8001 -0.358893  1.404453  0.704965 -0.200638   W\n",
      "8002 -0.501840  0.659254 -0.421691 -0.057688   C\n",
      "8003  0.204886  1.074134  1.388361 -0.982404   S\n",
      "8004  0.354628 -0.133116  0.283763 -0.837063   H\n",
      "...        ...       ...       ...       ...  ..\n",
      "8995  2.311896 -0.417070 -1.409599 -0.515821   W\n",
      "8996 -0.479893 -0.650419  0.745152 -0.646038   N\n",
      "8997  0.523331  0.787112  0.486066  1.093156   Q\n",
      "8998 -0.362559  0.598894 -1.843201  0.887292   R\n",
      "8999 -0.096376 -1.012999 -0.657431 -0.573315   M\n",
      "\n",
      "[1000 rows x 5 columns]\n",
      "           one       two     three      four key\n",
      "9000  0.467976 -0.038649 -0.295344 -1.824726   B\n",
      "9001 -0.358893  1.404453  0.704965 -0.200638   M\n",
      "9002 -0.501840  0.659254 -0.421691 -0.057688   N\n",
      "9003  0.204886  1.074134  1.388361 -0.982404   N\n",
      "9004  0.354628 -0.133116  0.283763 -0.837063   Y\n",
      "...        ...       ...       ...       ...  ..\n",
      "9995  2.311896 -0.417070 -1.409599 -0.515821   L\n",
      "9996 -0.479893 -0.650419  0.745152 -0.646038   E\n",
      "9997  0.523331  0.787112  0.486066  1.093156   K\n",
      "9998 -0.362559  0.598894 -1.843201  0.887292   G\n",
      "9999 -0.096376 -1.012999 -0.657431 -0.573315   0\n",
      "\n",
      "[1000 rows x 5 columns]\n"
     ]
    }
   ],
   "source": [
    "for i in df:\n",
    "    print(i)"
   ]
  },
  {
   "cell_type": "code",
   "execution_count": 5,
   "metadata": {},
   "outputs": [
    {
     "data": {
      "text/plain": [
       "pandas.io.parsers.TextFileReader"
      ]
     },
     "execution_count": 5,
     "metadata": {},
     "output_type": "execute_result"
    }
   ],
   "source": [
    "type(df)"
   ]
  },
  {
   "cell_type": "code",
   "execution_count": 9,
   "metadata": {},
   "outputs": [],
   "source": [
    "data=pd.read_csv('C:/Users/ejasm/Downloads/code_pandas1/examples/ex5.csv')\n",
    "data.to_csv('out1.csv')"
   ]
  },
  {
   "cell_type": "code",
   "execution_count": 10,
   "metadata": {},
   "outputs": [
    {
     "data": {
      "text/plain": [
       "'C:\\\\Users\\\\ejasm'"
      ]
     },
     "execution_count": 10,
     "metadata": {},
     "output_type": "execute_result"
    }
   ],
   "source": [
    "pwd"
   ]
  },
  {
   "cell_type": "code",
   "execution_count": 11,
   "metadata": {},
   "outputs": [],
   "source": [
    "data.to_json('out2.json')"
   ]
  },
  {
   "cell_type": "code",
   "execution_count": 12,
   "metadata": {},
   "outputs": [
    {
     "data": {
      "text/html": [
       "<div>\n",
       "<style scoped>\n",
       "    .dataframe tbody tr th:only-of-type {\n",
       "        vertical-align: middle;\n",
       "    }\n",
       "\n",
       "    .dataframe tbody tr th {\n",
       "        vertical-align: top;\n",
       "    }\n",
       "\n",
       "    .dataframe thead th {\n",
       "        text-align: right;\n",
       "    }\n",
       "</style>\n",
       "<table border=\"1\" class=\"dataframe\">\n",
       "  <thead>\n",
       "    <tr style=\"text-align: right;\">\n",
       "      <th></th>\n",
       "      <th>something</th>\n",
       "      <th>a</th>\n",
       "      <th>b</th>\n",
       "      <th>c</th>\n",
       "      <th>d</th>\n",
       "      <th>message</th>\n",
       "    </tr>\n",
       "  </thead>\n",
       "  <tbody>\n",
       "    <tr>\n",
       "      <th>0</th>\n",
       "      <td>one</td>\n",
       "      <td>1</td>\n",
       "      <td>2</td>\n",
       "      <td>3.0</td>\n",
       "      <td>4</td>\n",
       "      <td>None</td>\n",
       "    </tr>\n",
       "    <tr>\n",
       "      <th>1</th>\n",
       "      <td>two</td>\n",
       "      <td>5</td>\n",
       "      <td>6</td>\n",
       "      <td>NaN</td>\n",
       "      <td>8</td>\n",
       "      <td>world</td>\n",
       "    </tr>\n",
       "    <tr>\n",
       "      <th>2</th>\n",
       "      <td>three</td>\n",
       "      <td>9</td>\n",
       "      <td>10</td>\n",
       "      <td>11.0</td>\n",
       "      <td>12</td>\n",
       "      <td>foo</td>\n",
       "    </tr>\n",
       "  </tbody>\n",
       "</table>\n",
       "</div>"
      ],
      "text/plain": [
       "  something  a   b     c   d message\n",
       "0       one  1   2   3.0   4    None\n",
       "1       two  5   6   NaN   8   world\n",
       "2     three  9  10  11.0  12     foo"
      ]
     },
     "execution_count": 12,
     "metadata": {},
     "output_type": "execute_result"
    }
   ],
   "source": [
    "pd.read_json('out2.json')"
   ]
  },
  {
   "cell_type": "code",
   "execution_count": 13,
   "metadata": {},
   "outputs": [],
   "source": [
    "data.to_csv('out.csv',sep='@')"
   ]
  },
  {
   "cell_type": "code",
   "execution_count": 14,
   "metadata": {},
   "outputs": [],
   "source": [
    "### sys_ not clear"
   ]
  },
  {
   "cell_type": "code",
   "execution_count": 1,
   "metadata": {},
   "outputs": [],
   "source": [
    "## Date, time"
   ]
  },
  {
   "cell_type": "code",
   "execution_count": 6,
   "metadata": {},
   "outputs": [
    {
     "data": {
      "text/plain": [
       "DatetimeIndex(['2021-01-31', '2021-03-31', '2021-05-31', '2021-07-31',\n",
       "               '2021-09-30', '2021-11-30', '2022-01-31', '2022-03-31',\n",
       "               '2022-05-31', '2022-07-31', '2022-09-30', '2022-11-30',\n",
       "               '2023-01-31', '2023-03-31', '2023-05-31'],\n",
       "              dtype='datetime64[ns]', freq='2M')"
      ]
     },
     "execution_count": 6,
     "metadata": {},
     "output_type": "execute_result"
    }
   ],
   "source": [
    "import pandas as pd\n",
    "dates=pd.date_range('1/1/2021',periods=15,freq='2M')\n",
    "dates"
   ]
  },
  {
   "cell_type": "code",
   "execution_count": 4,
   "metadata": {},
   "outputs": [
    {
     "data": {
      "text/plain": [
       "DatetimeIndex(['2021-01-31', '2021-02-28', '2021-03-31', '2021-04-30',\n",
       "               '2021-05-31', '2021-06-30', '2021-07-31'],\n",
       "              dtype='datetime64[ns]', freq='M')"
      ]
     },
     "execution_count": 4,
     "metadata": {},
     "output_type": "execute_result"
    }
   ],
   "source": [
    "dates"
   ]
  },
  {
   "cell_type": "code",
   "execution_count": 12,
   "metadata": {},
   "outputs": [],
   "source": [
    "import numpy as np\n",
    "dates=pd.date_range('1/1/2020',periods=7)\n",
    "ts=pd.Series(np.arange(7),index=dates)"
   ]
  },
  {
   "cell_type": "code",
   "execution_count": 8,
   "metadata": {},
   "outputs": [
    {
     "data": {
      "text/plain": [
       "2020-01-01    0\n",
       "2020-01-02    1\n",
       "2020-01-03    2\n",
       "2020-01-04    3\n",
       "2020-01-05    4\n",
       "2020-01-06    5\n",
       "2020-01-07    6\n",
       "Freq: D, dtype: int32"
      ]
     },
     "execution_count": 8,
     "metadata": {},
     "output_type": "execute_result"
    }
   ],
   "source": [
    "ts"
   ]
  },
  {
   "cell_type": "code",
   "execution_count": 16,
   "metadata": {},
   "outputs": [
    {
     "name": "stdout",
     "output_type": "stream",
     "text": [
      "2020-01-01,0\n",
      "2020-01-02,1\n",
      "2020-01-03,2\n",
      "2020-01-04,3\n",
      "2020-01-05,4\n",
      "2020-01-06,5\n",
      "2020-01-07,6\n"
     ]
    }
   ],
   "source": [
    "d=ts.to_csv('tseries.csv',header=False)\n",
    "!type tseries.csv"
   ]
  },
  {
   "cell_type": "code",
   "execution_count": 17,
   "metadata": {},
   "outputs": [
    {
     "data": {
      "text/plain": [
       "'C:\\\\Users\\\\ejasm'"
      ]
     },
     "execution_count": 17,
     "metadata": {},
     "output_type": "execute_result"
    }
   ],
   "source": [
    "pwd"
   ]
  },
  {
   "cell_type": "code",
   "execution_count": 18,
   "metadata": {},
   "outputs": [
    {
     "data": {
      "text/html": [
       "<div>\n",
       "<style scoped>\n",
       "    .dataframe tbody tr th:only-of-type {\n",
       "        vertical-align: middle;\n",
       "    }\n",
       "\n",
       "    .dataframe tbody tr th {\n",
       "        vertical-align: top;\n",
       "    }\n",
       "\n",
       "    .dataframe thead th {\n",
       "        text-align: right;\n",
       "    }\n",
       "</style>\n",
       "<table border=\"1\" class=\"dataframe\">\n",
       "  <thead>\n",
       "    <tr style=\"text-align: right;\">\n",
       "      <th></th>\n",
       "      <th>2020-01-01</th>\n",
       "      <th>0</th>\n",
       "    </tr>\n",
       "  </thead>\n",
       "  <tbody>\n",
       "    <tr>\n",
       "      <th>0</th>\n",
       "      <td>2020-01-02</td>\n",
       "      <td>1</td>\n",
       "    </tr>\n",
       "    <tr>\n",
       "      <th>1</th>\n",
       "      <td>2020-01-03</td>\n",
       "      <td>2</td>\n",
       "    </tr>\n",
       "    <tr>\n",
       "      <th>2</th>\n",
       "      <td>2020-01-04</td>\n",
       "      <td>3</td>\n",
       "    </tr>\n",
       "    <tr>\n",
       "      <th>3</th>\n",
       "      <td>2020-01-05</td>\n",
       "      <td>4</td>\n",
       "    </tr>\n",
       "    <tr>\n",
       "      <th>4</th>\n",
       "      <td>2020-01-06</td>\n",
       "      <td>5</td>\n",
       "    </tr>\n",
       "    <tr>\n",
       "      <th>5</th>\n",
       "      <td>2020-01-07</td>\n",
       "      <td>6</td>\n",
       "    </tr>\n",
       "  </tbody>\n",
       "</table>\n",
       "</div>"
      ],
      "text/plain": [
       "   2020-01-01  0\n",
       "0  2020-01-02  1\n",
       "1  2020-01-03  2\n",
       "2  2020-01-04  3\n",
       "3  2020-01-05  4\n",
       "4  2020-01-06  5\n",
       "5  2020-01-07  6"
      ]
     },
     "execution_count": 18,
     "metadata": {},
     "output_type": "execute_result"
    }
   ],
   "source": [
    "pd.read_csv('tseries.csv')"
   ]
  },
  {
   "cell_type": "code",
   "execution_count": 19,
   "metadata": {},
   "outputs": [
    {
     "data": {
      "text/plain": [
       "NoneType"
      ]
     },
     "execution_count": 19,
     "metadata": {},
     "output_type": "execute_result"
    }
   ],
   "source": [
    "type(d)"
   ]
  },
  {
   "cell_type": "code",
   "execution_count": 21,
   "metadata": {},
   "outputs": [
    {
     "data": {
      "text/plain": [
       "<_io.TextIOWrapper name='C:/Users/ejasm/Downloads/code_pandas1/examples/ex7.csv' mode='r' encoding='cp65001'>"
      ]
     },
     "execution_count": 21,
     "metadata": {},
     "output_type": "execute_result"
    }
   ],
   "source": [
    "import csv\n",
    "f=open('C:/Users/ejasm/Downloads/code_pandas1/examples/ex7.csv')\n",
    "f"
   ]
  },
  {
   "cell_type": "code",
   "execution_count": 22,
   "metadata": {},
   "outputs": [],
   "source": [
    "reader=csv.reader(f)"
   ]
  },
  {
   "cell_type": "code",
   "execution_count": 23,
   "metadata": {},
   "outputs": [
    {
     "data": {
      "text/plain": [
       "[['a', 'b', 'c'], ['1', '2', '3'], ['1', '2', '3']]"
      ]
     },
     "execution_count": 23,
     "metadata": {},
     "output_type": "execute_result"
    }
   ],
   "source": [
    "list(reader)"
   ]
  },
  {
   "cell_type": "code",
   "execution_count": null,
   "metadata": {},
   "outputs": [],
   "source": []
  },
  {
   "cell_type": "code",
   "execution_count": null,
   "metadata": {},
   "outputs": [],
   "source": []
  },
  {
   "cell_type": "code",
   "execution_count": null,
   "metadata": {},
   "outputs": [],
   "source": []
  }
 ],
 "metadata": {
  "kernelspec": {
   "display_name": "Python 3",
   "language": "python",
   "name": "python3"
  },
  "language_info": {
   "codemirror_mode": {
    "name": "ipython",
    "version": 3
   },
   "file_extension": ".py",
   "mimetype": "text/x-python",
   "name": "python",
   "nbconvert_exporter": "python",
   "pygments_lexer": "ipython3",
   "version": "3.8.5"
  }
 },
 "nbformat": 4,
 "nbformat_minor": 4
}
